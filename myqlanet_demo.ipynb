{
  "nbformat": 4,
  "nbformat_minor": 0,
  "metadata": {
    "colab": {
      "name": "myqlanet_demo.ipynb",
      "provenance": [],
      "collapsed_sections": []
    },
    "kernelspec": {
      "name": "python3",
      "display_name": "Python 3"
    },
    "accelerator": "GPU"
  },
  "cells": [
     {
      "cell_type": "markdown",
      "metadata": {
        "id": "view-in-github",
        "colab_type": "text"
      },
      "source": [
        "<a href=\"https://colab.research.google.com/github/reshalfahsi/myqlanet/blob/master/myqlanet_demo.ipynb\" target=\"_parent\"><img src=\"https://colab.research.google.com/assets/colab-badge.svg\" alt=\"Open In Colab\"/></a>"
      ]
    },

    {
      "cell_type": "markdown",
      "metadata": {
        "id": "30IfHS8nr3th"
      },
      "source": [
        "# Demo for MyQLaNet"
      ]
    },
    {
      "cell_type": "markdown",
      "metadata": {
        "id": "SNO9F5uqsH7y"
      },
      "source": [
        "**Clone repository**"
      ]
    },
    {
      "cell_type": "code",
      "metadata": {
        "colab": {
          "base_uri": "https://localhost:8080/"
        },
        "id": "4ygi0rT6sS4o",
        "outputId": "a5e8fc85-cf2e-44f6-cf7e-eb31a41e6ca7"
      },
      "source": [
        "!git clone https://github.com/reshalfahsi/myqlanet"
      ],
      "execution_count": null,
      "outputs": [
        {
          "output_type": "stream",
          "text": [
            "Cloning into 'myqlanet'...\n",
            "remote: Enumerating objects: 251, done.\u001b[K\n",
            "remote: Counting objects: 100% (251/251), done.\u001b[K\n",
            "remote: Compressing objects: 100% (157/157), done.\u001b[K\n",
            "remote: Total 251 (delta 152), reused 187 (delta 88), pack-reused 0\u001b[K\n",
            "Receiving objects: 100% (251/251), 267.66 KiB | 24.33 MiB/s, done.\n",
            "Resolving deltas: 100% (152/152), done.\n"
          ],
          "name": "stdout"
        }
      ]
    },
    {
      "cell_type": "code",
      "metadata": {
        "colab": {
          "base_uri": "https://localhost:8080/"
        },
        "id": "1CXjHu3GscmQ",
        "outputId": "539ab59e-85f4-4659-f788-79dae763fe0e"
      },
      "source": [
        "cd myqlanet"
      ],
      "execution_count": null,
      "outputs": [
        {
          "output_type": "stream",
          "text": [
            "/content/myqlanet\n"
          ],
          "name": "stdout"
        }
      ]
    },
    {
      "cell_type": "markdown",
      "metadata": {
        "id": "uHTsi51wsgGx"
      },
      "source": [
        "**Mount your Google drive folder on Colab**"
      ]
    },
    {
      "cell_type": "code",
      "metadata": {
        "colab": {
          "base_uri": "https://localhost:8080/"
        },
        "id": "W1jnanDNsimM",
        "outputId": "b80e5754-16c0-4009-9f63-16200c4a0596"
      },
      "source": [
        "from google.colab import drive\n",
        "drive.mount('/content/gdrive')"
      ],
      "execution_count": null,
      "outputs": [
        {
          "output_type": "stream",
          "text": [
            "Mounted at /content/gdrive\n"
          ],
          "name": "stdout"
        }
      ]
    },
    {
      "cell_type": "markdown",
      "metadata": {
        "id": "Ljnb16PZsvGH"
      },
      "source": [
        "**Demo time!**"
      ]
    },
    {
      "cell_type": "code",
      "metadata": {
        "id": "b7BUe0ePs2ju"
      },
      "source": [
        "from myqlanet import *\n",
        "\n",
        "# path to the important config file\n",
        "dataset_path = '/content/gdrive/My Drive/macula_dataset'\n",
        "annotation_path = '/content/gdrive/My Drive/macula_dataset/annotation.csv'\n",
        "weight_path = '/content/gdrive/My Drive/macula_dataset/weight.pth'\n",
        "\n",
        "# create MyQLaNet model\n",
        "model = MyQLaNet()\n",
        "\n",
        "# create dataset\n",
        "dataset = MaculaDataset(annotation_path, dataset_path)\n",
        "\n",
        "# training time!\n",
        "model.compile(dataset)\n",
        "model.fit(weight_path)"
      ],
      "execution_count": null,
      "outputs": []
    }
  ]
}
